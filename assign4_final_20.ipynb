{
  "nbformat": 4,
  "nbformat_minor": 0,
  "metadata": {
    "kernelspec": {
      "display_name": "Python 3",
      "language": "python",
      "name": "python3"
    },
    "language_info": {
      "codemirror_mode": {
        "name": "ipython",
        "version": 3
      },
      "file_extension": ".py",
      "mimetype": "text/x-python",
      "name": "python",
      "nbconvert_exporter": "python",
      "pygments_lexer": "ipython3",
      "version": "3.7.6"
    },
    "colab": {
      "name": "assign4_final_20.ipynb",
      "provenance": []
    }
  },
  "cells": [
    {
      "cell_type": "markdown",
      "metadata": {
        "id": "8_iCPMq7wEDD",
        "colab_type": "text"
      },
      "source": [
        "### Logistic Regression with Gradient Descent: A Classification Exercise - #4\n",
        "### Due: March 18th, 2020 ###\n",
        "\n",
        "**In this exercise you are going to complete the code necessary for a supervised classification problem**  \n",
        "\n",
        "We start by generating a set of points ($x_1,x_2$) to roughly cover the 2-dimensional plane.  Then we decide on curve that seperates points into two sets: First the inside and outside of the unit circle.  We the create a lable variable y with values 1 and 0 for points inside and outside.  Then we pick 6 features that are variables $1, x_1, x_2, x_1^2, x_2^2, and\\ x_1x_2$ .  Our objective is to use the standard gradient descent method minimize a the cost function for the logistic regression hypothesis function, and have the program figure out the optimal coefficients among the features for the correct boundary.\n",
        "\n",
        "This exercise takes you through 4 basic steps:\n",
        "\n",
        "- Generating a simulated set of data and labels\n",
        "- Constructing a set of features\n",
        "- Writing the Cost function for logistic regression\n",
        "- Gradient Descent for logistic regression\n",
        "\n",
        "You will also apply the packaged logistic regression model from sklearn and compare with our own solution\n",
        "\n",
        "Packages Used:  \n",
        "\n",
        "**pandas** for data frames and easy to read csv files   \n",
        "**numpy** for array and matrix mathematics functions  \n",
        "**matplotlib** for plotting  \n",
        "and **LogisticRegression** from sklearn.linear_model  "
      ]
    },
    {
      "cell_type": "code",
      "metadata": {
        "id": "YNymeuGDwEDI",
        "colab_type": "code",
        "colab": {}
      },
      "source": [
        "import numpy as np\n",
        "import pandas as pd\n",
        "import matplotlib.pyplot as plt\n",
        "\n",
        "%matplotlib inline"
      ],
      "execution_count": 0,
      "outputs": []
    },
    {
      "cell_type": "markdown",
      "metadata": {
        "id": "EcYPN40jwEDP",
        "colab_type": "text"
      },
      "source": [
        "### Let us generate sufficient point to cover the x-y plane"
      ]
    },
    {
      "cell_type": "code",
      "metadata": {
        "id": "To5vny2EwEDQ",
        "colab_type": "code",
        "colab": {}
      },
      "source": [
        "np.random.seed(42)\n",
        "m = 50000\n",
        "\n",
        "#Now generate 5,000 points points within square [-3, 3] X [-3, 3]\n",
        "X_data = np.random.uniform([-3,-3],[3,3], size=(m,2))"
      ],
      "execution_count": 0,
      "outputs": []
    },
    {
      "cell_type": "code",
      "metadata": {
        "id": "9dVCKPBVwEDW",
        "colab_type": "code",
        "colab": {
          "base_uri": "https://localhost:8080/",
          "height": 35
        },
        "outputId": "52132268-9653-4a19-d31a-8967007a9e83"
      },
      "source": [
        "X_data.shape"
      ],
      "execution_count": 3,
      "outputs": [
        {
          "output_type": "execute_result",
          "data": {
            "text/plain": [
              "(50000, 2)"
            ]
          },
          "metadata": {
            "tags": []
          },
          "execution_count": 3
        }
      ]
    },
    {
      "cell_type": "code",
      "metadata": {
        "id": "od05ao99wEDd",
        "colab_type": "code",
        "colab": {
          "base_uri": "https://localhost:8080/",
          "height": 625
        },
        "outputId": "848b7d55-7c7a-490e-f242-3b7511ade902"
      },
      "source": [
        "#Let's plot this simulated points on the plane\n",
        "fig = plt.figure(figsize=(10,10))\n",
        "plt.scatter(X_data[:,0], X_data[:,1])\n",
        "plt.title('The canvas: 5,000 points in the [-3,3]X[-3,3] range')\n",
        "plt.xlabel('x1', fontsize = 14)\n",
        "plt.ylabel('x2', fontsize = 14)\n",
        "plt.show()"
      ],
      "execution_count": 4,
      "outputs": [
        {
          "output_type": "display_data",
          "data": {
            "image/png": "[encoded data removed]",
            "text/plain": [
              "<Figure size 720x720 with 1 Axes>"
            ]
          },
          "metadata": {
            "tags": []
          }
        }
      ]
    },
    {
      "cell_type": "markdown",
      "metadata": {
        "id": "uO76pbDzwEDm",
        "colab_type": "text"
      },
      "source": [
        "### The features are: $$ 1, x_1, x_2, x_1^2, x_2^2, x_1*x_2$$"
      ]
    },
    {
      "cell_type": "code",
      "metadata": {
        "id": "g-hePezhwEDo",
        "colab_type": "code",
        "colab": {}
      },
      "source": [
        "#Now we will create and stack the variables: the bias term - all ones, x1, x2, x2^2, and x2^2 into a feature matrix\n",
        "features_2 = np.vstack((np.ones(len(X_data)), X_data[:,0], X_data[:,1], X_data[:,0]*X_data[:,0], \n",
        "                      X_data[:,1]*X_data[:,1],  X_data[:,0]*X_data[:,1])).astype(np.float32)"
      ],
      "execution_count": 0,
      "outputs": []
    },
    {
      "cell_type": "code",
      "metadata": {
        "id": "XW3TybrOwEDs",
        "colab_type": "code",
        "colab": {}
      },
      "source": [
        "#As is standard, our features now will be made into columns and for convenience we call the matrix X\n",
        "X = features_2.T.copy()"
      ],
      "execution_count": 0,
      "outputs": []
    },
    {
      "cell_type": "code",
      "metadata": {
        "id": "GtaducHrwEDx",
        "colab_type": "code",
        "colab": {
          "base_uri": "https://localhost:8080/",
          "height": 35
        },
        "outputId": "547ef978-bbbe-4281-9df8-234a90cf89a7"
      },
      "source": [
        "#Check to see we have the correct dimensions\n",
        "X.shape"
      ],
      "execution_count": 7,
      "outputs": [
        {
          "output_type": "execute_result",
          "data": {
            "text/plain": [
              "(50000, 6)"
            ]
          },
          "metadata": {
            "tags": []
          },
          "execution_count": 7
        }
      ]
    },
    {
      "cell_type": "code",
      "metadata": {
        "id": "F0KKpLtjwED3",
        "colab_type": "code",
        "colab": {}
      },
      "source": [
        "#Now create a empty label vector y\n",
        "y = np.zeros(X.shape[0])"
      ],
      "execution_count": 0,
      "outputs": []
    },
    {
      "cell_type": "markdown",
      "metadata": {
        "id": "XunJ1m8uwED9",
        "colab_type": "text"
      },
      "source": [
        "#### Now let us separate the points $x^2 + y^2 < 1$ from the rest"
      ]
    },
    {
      "cell_type": "code",
      "metadata": {
        "id": "ZWGTaIxGwED_",
        "colab_type": "code",
        "colab": {}
      },
      "source": [
        "#The points are seperated by a circle.  Does this make sense?\n",
        "y = (X[:,3] + X[:,4]) < 1"
      ],
      "execution_count": 0,
      "outputs": []
    },
    {
      "cell_type": "code",
      "metadata": {
        "id": "nUtVom0nwEEF",
        "colab_type": "code",
        "colab": {}
      },
      "source": [
        "#y is a boolean vector of True and False, let's turn it into labels of 1 and 0\n",
        "labels = y*1"
      ],
      "execution_count": 0,
      "outputs": []
    },
    {
      "cell_type": "code",
      "metadata": {
        "id": "zklKL3fgwEEK",
        "colab_type": "code",
        "colab": {
          "base_uri": "https://localhost:8080/",
          "height": 35
        },
        "outputId": "11cf3f04-fcc5-4038-a6cc-66908c54bae1"
      },
      "source": [
        "#take a look at the labels\n",
        "labels"
      ],
      "execution_count": 12,
      "outputs": [
        {
          "output_type": "execute_result",
          "data": {
            "text/plain": [
              "array([0, 0, 0, ..., 0, 0, 1])"
            ]
          },
          "metadata": {
            "tags": []
          },
          "execution_count": 12
        }
      ]
    },
    {
      "cell_type": "code",
      "metadata": {
        "id": "ssDqbji1wEEQ",
        "colab_type": "code",
        "colab": {
          "base_uri": "https://localhost:8080/",
          "height": 337
        },
        "outputId": "44a64b3b-5775-4d85-a534-227823707bf1"
      },
      "source": [
        "#Don't see anything?  Try this!\n",
        "plt.hist(labels)"
      ],
      "execution_count": 13,
      "outputs": [
        {
          "output_type": "execute_result",
          "data": {
            "text/plain": [
              "(array([45664.,     0.,     0.,     0.,     0.,     0.,     0.,     0.,\n",
              "            0.,  4336.]),\n",
              " array([0. , 0.1, 0.2, 0.3, 0.4, 0.5, 0.6, 0.7, 0.8, 0.9, 1. ]),\n",
              " <a list of 10 Patch objects>)"
            ]
          },
          "metadata": {
            "tags": []
          },
          "execution_count": 13
        },
        {
          "output_type": "display_data",
          "data": {
            "image/png": "[encoded data removed]",
            "text/plain": [
              "<Figure size 432x288 with 1 Axes>"
            ]
          },
          "metadata": {
            "tags": []
          }
        }
      ]
    },
    {
      "cell_type": "code",
      "metadata": {
        "id": "7hbIxh0DwEEV",
        "colab_type": "code",
        "colab": {
          "base_uri": "https://localhost:8080/",
          "height": 483
        },
        "outputId": "36b30610-d941-4bc2-f91b-6f9123272430"
      },
      "source": [
        "# Visualize the data:\n",
        "fig = plt.figure(figsize=(8,8))\n",
        "plt.scatter(X[:,1], X[:,2], c=y, s=40, cmap=plt.cm.Spectral);"
      ],
      "execution_count": 14,
      "outputs": [
        {
          "output_type": "display_data",
          "data": {
            "image/png": "[encoded data removed]",
            "text/plain": [
              "<Figure size 576x576 with 1 Axes>"
            ]
          },
          "metadata": {
            "tags": []
          }
        }
      ]
    },
    {
      "cell_type": "markdown",
      "metadata": {
        "id": "VGvWBdi9wEEf",
        "colab_type": "text"
      },
      "source": [
        "### Now you going to start coding to develop the logistic regression model that seperates this data.  In other words, identify the boundary curve "
      ]
    },
    {
      "cell_type": "markdown",
      "metadata": {
        "id": "9aVkg8WHwEEi",
        "colab_type": "text"
      },
      "source": [
        "#### <font color='blue'> Exercise #1: </font> Complete the code for sigmoid function"
      ]
    },
    {
      "cell_type": "code",
      "metadata": {
        "id": "E4xAoEszwEEk",
        "colab_type": "code",
        "colab": {}
      },
      "source": [
        "#The function is the basic sigmoid function:  You can compelete in a single line of code\n",
        "def sigmoid(scores):\n",
        "    '''This function calculates the sigmoid of the input vector \"scores\"\n",
        "    and returns the vector \"logits\" '''\n",
        "    \n",
        "    #### insert your code here ~ one line\n",
        "    logits = 1/(1 + np.exp(-scores))\n",
        "    \n",
        "    return logits\n",
        "    ######"
      ],
      "execution_count": 0,
      "outputs": []
    },
    {
      "cell_type": "markdown",
      "metadata": {
        "id": "fnS3RgNpwEEp",
        "colab_type": "text"
      },
      "source": [
        "#### <font color='blue'> Exercise #2: </font> The cost function for logistic regression"
      ]
    },
    {
      "cell_type": "code",
      "metadata": {
        "id": "6QwhuJE5wEEq",
        "colab_type": "code",
        "colab": {}
      },
      "source": [
        "##Now you will have to complete the code for costFunction: 3 -4 lines of code\n",
        "def costFunction(features,labels,weights):\n",
        "    '''This function calculates the cost'''\n",
        "    m = len(features)\n",
        "    ##### insert your code here ~ two to three lines: use cost function for logistic regression#####\n",
        "    scores = np.dot(features, weights)\n",
        "    predictions = sigmoid(scores)\n",
        "    loss_y_hat = np.log(0.5 + np.abs(predictions-0.5))\n",
        "    \n",
        "    ############\n",
        "    cost = (-loss_y_hat)/m\n",
        "    return cost"
      ],
      "execution_count": 0,
      "outputs": []
    },
    {
      "cell_type": "markdown",
      "metadata": {
        "id": "wlwI_rmZwEEv",
        "colab_type": "text"
      },
      "source": [
        "#### <font color='blue'> Exercise #3 </font> Complete the code for gradient descent for logistic regression"
      ]
    },
    {
      "cell_type": "code",
      "metadata": {
        "id": "gDNkcr_JwEEw",
        "colab_type": "code",
        "colab": {}
      },
      "source": [
        "#This is the most interesting part of the assignment:  The gradient descent\n",
        "# to calculate the optimal parameters\n",
        "\n",
        "def log_reg(features, labels, num_steps, learning_rate):\n",
        "    \n",
        "    '''This function uses the sigmoid and costFunction and\n",
        "    implement gradient descent and calculate the costs at every\n",
        "    10,000 steps'''\n",
        "        \n",
        "    weights = np.zeros(features.shape[1])\n",
        "    m = features.shape[0]\n",
        "    \n",
        "    for step in range(num_steps):\n",
        "        scores = np.dot(features, weights)\n",
        "        predictions = sigmoid(scores)\n",
        "\n",
        "        # Update weights with gradient\n",
        "        ####### insert your code here ~ two to three lines #########\n",
        "        gradient = np.dot(features.T, predictions - labels)\n",
        "        gradient = gradient/m*learning_rate\n",
        "        weights = weights - gradient\n",
        "        \n",
        "        #######\n",
        "        # Print log-likelihood every so often\n",
        "        if step % 10000 == 0:\n",
        "            print(costFunction(features,labels,weights))\n",
        "        \n",
        "    return weights"
      ],
      "execution_count": 0,
      "outputs": []
    },
    {
      "cell_type": "markdown",
      "metadata": {
        "id": "pYejKRCwwEE1",
        "colab_type": "text"
      },
      "source": [
        "#### Scaling is important to keep the iterative process in check"
      ]
    },
    {
      "cell_type": "code",
      "metadata": {
        "id": "EWhPYKlBwEE2",
        "colab_type": "code",
        "colab": {}
      },
      "source": [
        "from sklearn.preprocessing import MinMaxScaler  #we may need this if the square is larger"
      ],
      "execution_count": 0,
      "outputs": []
    },
    {
      "cell_type": "code",
      "metadata": {
        "id": "uGCjWJKkwEE9",
        "colab_type": "code",
        "colab": {}
      },
      "source": [
        "x_scaler = MinMaxScaler()\n",
        "X_scaled = x_scaler.fit_transform(X)"
      ],
      "execution_count": 0,
      "outputs": []
    },
    {
      "cell_type": "markdown",
      "metadata": {
        "id": "G1WjGBTjwEFB",
        "colab_type": "text"
      },
      "source": [
        "#### Call up the log_reg function that does gradient descent on the cost function, to render optimal values of $\\hat\\Theta$"
      ]
    },
    {
      "cell_type": "code",
      "metadata": {
        "id": "bCkccKp-wEFC",
        "colab_type": "code",
        "colab": {
          "base_uri": "https://localhost:8080/",
          "height": 125
        },
        "outputId": "1dd7884d-b2b3-4bec-d416-80a60828997e"
      },
      "source": [
        "##Let us now use our function to come up with the optimal parameters\n",
        "Theta_hat = log_reg(X, labels,num_steps = 30000, learning_rate = 0.01)"
      ],
      "execution_count": 21,
      "outputs": [
        {
          "output_type": "stream",
          "text": [
            "[1.26932622e-05 1.34889854e-05 1.26102052e-05 ... 1.27753091e-05\n",
            " 1.32576667e-05 1.37573901e-05]\n",
            "[3.03260811e-11 1.04691108e-06 8.47069986e-12 ... 7.76443186e-11\n",
            " 5.06062445e-08 8.74488947e-06]\n",
            "[3.50111863e-13 5.21665914e-07 6.35848952e-14 ... 1.29300195e-12\n",
            " 8.43172360e-09 5.57347185e-06]\n"
          ],
          "name": "stdout"
        }
      ]
    },
    {
      "cell_type": "markdown",
      "metadata": {
        "id": "w2m1oBFgwEFH",
        "colab_type": "text"
      },
      "source": [
        "#### You would see numbers like these:\n",
        "\n",
        "0.649746365538\n",
        "0.0713032927782\n",
        "0.0549840373037"
      ]
    },
    {
      "cell_type": "code",
      "metadata": {
        "id": "IB9SH4K2wEFI",
        "colab_type": "code",
        "colab": {
          "base_uri": "https://localhost:8080/",
          "height": 53
        },
        "outputId": "052bf77c-6249-4dbf-a073-98f6b79c6edb"
      },
      "source": [
        "## Take a look at the parameter set\n",
        "Theta_hat"
      ],
      "execution_count": 22,
      "outputs": [
        {
          "output_type": "execute_result",
          "data": {
            "text/plain": [
              "array([ 2.80780773, -0.01209348,  0.01057021, -3.06387661, -3.04460327,\n",
              "        0.0072521 ])"
            ]
          },
          "metadata": {
            "tags": []
          },
          "execution_count": 22
        }
      ]
    },
    {
      "cell_type": "markdown",
      "metadata": {
        "id": "aIKsTveswEFM",
        "colab_type": "text"
      },
      "source": [
        "#### You ought to see these or numbers proportional to these\n",
        "\n",
        "array([array([2.80780773, -0.01209348,  0.01057021, -3.06387661, -3.04460327, 0.0072521])])"
      ]
    },
    {
      "cell_type": "markdown",
      "metadata": {
        "id": "kPu1RNNJwEFO",
        "colab_type": "text"
      },
      "source": [
        "#### Let us think about this: out of the all the coefficients of $\\theta_0, \\theta_1, \\theta_2, \\theta_3, \\theta_4,\\theta_5$ we know the nonzero labels correspond to the circle: $\\theta_0,\\theta_3,\\theta_4$ and our procedure finds basically those and eliminates $\\theta_1,\\theta_2, and \\theta_5$\n",
        "\n",
        "#### In fact the actual parameter set:  Theta = np.array([1,0,0,-1,-1,0]) that corresponds to:\n",
        "$$ 1 + 0x_1 + 0x_2 - x_1^2 - x_2^2 + 0x_1x_2$$"
      ]
    },
    {
      "cell_type": "code",
      "metadata": {
        "id": "Hqywdz-kwEFP",
        "colab_type": "code",
        "colab": {}
      },
      "source": [
        "##Use our model parameters Theta_hat to predict the labels:  y_pred\n",
        "y_pred = np.dot(X,Theta_hat)"
      ],
      "execution_count": 0,
      "outputs": []
    },
    {
      "cell_type": "code",
      "metadata": {
        "id": "SGZ6wg7vwEFT",
        "colab_type": "code",
        "colab": {
          "base_uri": "https://localhost:8080/",
          "height": 35
        },
        "outputId": "2c12500e-8c05-4de8-eb79-2a38c1dccc77"
      },
      "source": [
        "##Make sure we are getting the correct shape: an array size (5000,)\n",
        "y_pred.shape"
      ],
      "execution_count": 24,
      "outputs": [
        {
          "output_type": "execute_result",
          "data": {
            "text/plain": [
              "(50000,)"
            ]
          },
          "metadata": {
            "tags": []
          },
          "execution_count": 24
        }
      ]
    },
    {
      "cell_type": "code",
      "metadata": {
        "id": "NQwfP1u3wEFa",
        "colab_type": "code",
        "colab": {}
      },
      "source": [
        "## Now turn all output values greater than 0.5 to one class and others to second\n",
        "y_hat = (y_pred >= 0.5).astype(int)"
      ],
      "execution_count": 0,
      "outputs": []
    },
    {
      "cell_type": "code",
      "metadata": {
        "id": "D37L2UqLwEFe",
        "colab_type": "code",
        "colab": {
          "base_uri": "https://localhost:8080/",
          "height": 35
        },
        "outputId": "caa35533-3f39-4110-8973-3d5f10e85f40"
      },
      "source": [
        "## Take a look:  array([0, 1, 1, ..., 1, 0, 1])?\n",
        "y_hat"
      ],
      "execution_count": 26,
      "outputs": [
        {
          "output_type": "execute_result",
          "data": {
            "text/plain": [
              "array([0, 0, 0, ..., 0, 0, 1])"
            ]
          },
          "metadata": {
            "tags": []
          },
          "execution_count": 26
        }
      ]
    },
    {
      "cell_type": "code",
      "metadata": {
        "id": "XUxWwVUZwEFk",
        "colab_type": "code",
        "colab": {
          "base_uri": "https://localhost:8080/",
          "height": 264
        },
        "outputId": "ba3dcf02-2290-449a-88bd-442970b9b383"
      },
      "source": [
        "#Let us look at it another way\n",
        "plt.hist(y_hat)\n",
        "plt.show()\n"
      ],
      "execution_count": 27,
      "outputs": [
        {
          "output_type": "display_data",
          "data": {
            "image/png": "[encoded data removed]",
            "text/plain": [
              "<Figure size 432x288 with 1 Axes>"
            ]
          },
          "metadata": {
            "tags": []
          }
        }
      ]
    },
    {
      "cell_type": "code",
      "metadata": {
        "id": "lVKdwYRTwEFp",
        "colab_type": "code",
        "colab": {
          "base_uri": "https://localhost:8080/",
          "height": 592
        },
        "outputId": "583b5c4e-46b6-4369-db02-c57747ae072a"
      },
      "source": [
        "# Visualize the data what our classification did: If done correctly it out to look like the graph below:\n",
        "fig = plt.figure(figsize=(10,10))\n",
        "plt.scatter(X[:,1], X[:,2], c=y_hat, s=40, cmap=plt.cm.Spectral);"
      ],
      "execution_count": 28,
      "outputs": [
        {
          "output_type": "display_data",
          "data": {
            "image/png": "[encoded data removed]",
            "text/plain": [
              "<Figure size 720x720 with 1 Axes>"
            ]
          },
          "metadata": {
            "tags": []
          }
        }
      ]
    },
    {
      "cell_type": "code",
      "metadata": {
        "id": "UGKhhR2WwEFu",
        "colab_type": "code",
        "colab": {
          "base_uri": "https://localhost:8080/",
          "height": 35
        },
        "outputId": "cdb2757e-673d-4b45-d3f5-427416496d9f"
      },
      "source": [
        "#Let us see how our modeling is doing\n",
        "sum(np.abs(y_hat-labels))/len(X)"
      ],
      "execution_count": 29,
      "outputs": [
        {
          "output_type": "execute_result",
          "data": {
            "text/plain": [
              "0.02108"
            ]
          },
          "metadata": {
            "tags": []
          },
          "execution_count": 29
        }
      ]
    },
    {
      "cell_type": "markdown",
      "metadata": {
        "id": "Is6N32nDwEFz",
        "colab_type": "text"
      },
      "source": [
        "### You should see something like:\n",
        "\n",
        "0.0128"
      ]
    },
    {
      "cell_type": "markdown",
      "metadata": {
        "id": "MtxCnGP4wEF0",
        "colab_type": "text"
      },
      "source": [
        "#### Now let us explore this a bit further: A mixed term $x_1^3 + x_2^3$ added on for labels"
      ]
    },
    {
      "cell_type": "code",
      "metadata": {
        "id": "4dVeqzniwEF2",
        "colab_type": "code",
        "colab": {}
      },
      "source": [
        "#y_3 = (X[:,2]*X[:,4]+X[:,1]*X[:,1]*X[:,1]) < 1\n",
        "y_3 = (X[:,1]*X[:,1]*X[:,1] + X[:,2]*X[:,2]*X[:,2]) < 1"
      ],
      "execution_count": 0,
      "outputs": []
    },
    {
      "cell_type": "code",
      "metadata": {
        "id": "pHuu1_iawEF6",
        "colab_type": "code",
        "colab": {},
        "outputId": "b8488578-4a1d-4d45-e283-809f8597f5c9"
      },
      "source": [
        "X[:,1]"
      ],
      "execution_count": 0,
      "outputs": [
        {
          "output_type": "execute_result",
          "data": {
            "text/plain": [
              "array([-0.75275928,  1.3919636 , -2.06388807, ...,  2.06351852,\n",
              "        1.67551732, -0.00331653], dtype=float32)"
            ]
          },
          "metadata": {
            "tags": []
          },
          "execution_count": 29
        }
      ]
    },
    {
      "cell_type": "code",
      "metadata": {
        "id": "FBpLIEtVwEF-",
        "colab_type": "code",
        "colab": {}
      },
      "source": [
        "#Again we turn the labels to 0/1\n",
        "labels_3 = y_3*1"
      ],
      "execution_count": 0,
      "outputs": []
    },
    {
      "cell_type": "code",
      "metadata": {
        "id": "fBWRWZZywEGC",
        "colab_type": "code",
        "colab": {},
        "outputId": "5dc1686f-a0c4-4770-eec8-d01586eca749"
      },
      "source": [
        "# Visualize the data what is labled\n",
        "fig = plt.figure(figsize=(8,8))\n",
        "plt.scatter(X[:,1], X[:,2], c=labels_3, s=40, cmap=plt.cm.Spectral);"
      ],
      "execution_count": 0,
      "outputs": [
        {
          "output_type": "display_data",
          "data": {
            "image/png": "[encoded data removed]",
            "text/plain": [
              "<matplotlib.figure.Figure at 0x1764a8690b8>"
            ]
          },
          "metadata": {
            "tags": []
          }
        }
      ]
    },
    {
      "cell_type": "markdown",
      "metadata": {
        "id": "8SYbdfj3wEGH",
        "colab_type": "text"
      },
      "source": [
        "#### Now we will use the sklearn package to effciently model the data, but use the original X"
      ]
    },
    {
      "cell_type": "code",
      "metadata": {
        "id": "5tJ0Wl9pwEGI",
        "colab_type": "code",
        "colab": {}
      },
      "source": [
        "#Now we will use the sklearn package to effciently model the data, \n",
        "# but use the original X\n",
        "from sklearn.linear_model import LogisticRegression\n",
        "log_reg = LogisticRegression(random_state=42)\n",
        "model = log_reg.fit(X, labels_3)"
      ],
      "execution_count": 0,
      "outputs": []
    },
    {
      "cell_type": "code",
      "metadata": {
        "id": "RukeUNOLwEGM",
        "colab_type": "code",
        "colab": {}
      },
      "source": [
        "#Get the prediction from the model\n",
        "y3_hat = model.predict(X)"
      ],
      "execution_count": 0,
      "outputs": []
    },
    {
      "cell_type": "code",
      "metadata": {
        "id": "gic1S4TWwEGT",
        "colab_type": "code",
        "colab": {}
      },
      "source": [
        "#Turn the labels from boolean to binary\n",
        "y3_hat = y3_hat*1"
      ],
      "execution_count": 0,
      "outputs": []
    },
    {
      "cell_type": "markdown",
      "metadata": {
        "id": "DcX8MRPgwEGX",
        "colab_type": "text"
      },
      "source": [
        "#### Your graph should like like the following:"
      ]
    },
    {
      "cell_type": "code",
      "metadata": {
        "id": "gDYdnuyCwEGZ",
        "colab_type": "code",
        "colab": {},
        "outputId": "99d0b41a-73b2-4b1f-8b0e-182d19028170"
      },
      "source": [
        "# Now let us take a look how the model is doing:\n",
        "fig,axes = plt.subplots(1,2, figsize=(10,5), sharey = True)\n",
        "# Visualize the data what is originally labled:\n",
        "axes[0].scatter(X[:,1], X[:,2], c=labels_3, s=40, cmap=plt.cm.Spectral);\n",
        "axes[0].set_title('Original Dataset')\n",
        "# Now plot what the model classified:\n",
        "axes[1].scatter(X[:,1], X[:,2], c=y3_hat, s=40, cmap=plt.cm.Spectral);\n",
        "axes[1].set_title('Classified by Model')\n",
        "plt.show()"
      ],
      "execution_count": 0,
      "outputs": [
        {
          "output_type": "display_data",
          "data": {
            "image/png": "[encoded data removed]",
            "text/plain": [
              "<matplotlib.figure.Figure at 0x1764ad51780>"
            ]
          },
          "metadata": {
            "tags": []
          }
        }
      ]
    },
    {
      "cell_type": "markdown",
      "metadata": {
        "id": "XRrOwNurwEGe",
        "colab_type": "text"
      },
      "source": [
        "#### Obviously our prediction is pretty poor!  It is becuase the terms we have allowed on goes only up to quadratics.  We need to include cubics."
      ]
    },
    {
      "cell_type": "code",
      "metadata": {
        "id": "FrezhKy5wEGg",
        "colab_type": "code",
        "colab": {},
        "outputId": "611ab8c7-9318-4f64-f95c-0d68f1c03612"
      },
      "source": [
        "#Let us see how our modeling is doing\n",
        "sum(np.abs(y3_hat-labels_3))/len(y3_hat)"
      ],
      "execution_count": 0,
      "outputs": [
        {
          "output_type": "execute_result",
          "data": {
            "text/plain": [
              "0.043279999999999999"
            ]
          },
          "metadata": {
            "tags": []
          },
          "execution_count": 56
        }
      ]
    },
    {
      "cell_type": "markdown",
      "metadata": {
        "id": "2DuePKbSwEGm",
        "colab_type": "text"
      },
      "source": [
        "#### You ought to see an accuray of 0.0512.  Not bad!  However the picture is not quite matching.  Can we do better?"
      ]
    },
    {
      "cell_type": "markdown",
      "metadata": {
        "id": "IdYXyuRzwEGn",
        "colab_type": "text"
      },
      "source": [
        "#### <font color='blue'> Exercise #4:  </font> Now you add all terms up to and including 3rd degree terms such as $1, x_1, x_2, x_1^2, x_2^2, x_1x_2, x_1^3, x_2^3, x_1^2x_2, x_1x_2^2$  in to the feature list so our model is better"
      ]
    },
    {
      "cell_type": "code",
      "metadata": {
        "id": "_ik0zHqBwEGo",
        "colab_type": "code",
        "colab": {}
      },
      "source": [
        "#####Construct the feature vector set.  Remember to include all the terms\n",
        "##### including mixed terms that goes up to and including 3rd degree\n",
        "\n",
        "####### insert your code here ~ one-two line #########\n",
        "\n",
        "features_3 = np.array([X[:,0],X[:,1],X[:,2],X[:,3],X[:,4],X[:,5],X[:,1]*X[:,1]*X[:,1],X[:,2]*X[:,4],X[:,3]*X[:,2],X[:,1]*X[:,4]])\n",
        "\n",
        "######"
      ],
      "execution_count": 0,
      "outputs": []
    },
    {
      "cell_type": "code",
      "metadata": {
        "id": "aLIPLu7_wEGv",
        "colab_type": "code",
        "colab": {}
      },
      "source": [
        "X3 = features_3.T.copy()"
      ],
      "execution_count": 0,
      "outputs": []
    },
    {
      "cell_type": "markdown",
      "metadata": {
        "id": "9V2jFtzEwEG0",
        "colab_type": "text"
      },
      "source": [
        "#### Now we will use the optimized sklearn package (instead of our implementation) to model the data, but use the X3 involving at most cubics"
      ]
    },
    {
      "cell_type": "code",
      "metadata": {
        "id": "r4oDJ08NwEG1",
        "colab_type": "code",
        "colab": {}
      },
      "source": [
        "from sklearn.linear_model import LogisticRegression\n",
        "log_reg = LogisticRegression(random_state=42)\n",
        "model = log_reg.fit(X3, labels_3)"
      ],
      "execution_count": 0,
      "outputs": []
    },
    {
      "cell_type": "code",
      "metadata": {
        "id": "q5mnENJ7wEG5",
        "colab_type": "code",
        "colab": {},
        "outputId": "870b74c4-2f31-48c4-d128-2ba6e590f42d"
      },
      "source": [
        "model.coef_"
      ],
      "execution_count": 0,
      "outputs": [
        {
          "output_type": "execute_result",
          "data": {
            "text/plain": [
              "array([[  5.44071898e+00,  -3.42409989e-01,  -3.20882036e-01,\n",
              "          9.58219089e-03,  -1.17171146e-01,  -1.04876275e+01,\n",
              "         -1.04915225e+01]])"
            ]
          },
          "metadata": {
            "tags": []
          },
          "execution_count": 60
        }
      ]
    },
    {
      "cell_type": "code",
      "metadata": {
        "id": "lX8MAsAHwEG9",
        "colab_type": "code",
        "colab": {}
      },
      "source": [
        "y3_hat = model.predict(X3)"
      ],
      "execution_count": 0,
      "outputs": []
    },
    {
      "cell_type": "code",
      "metadata": {
        "id": "pwmHm--2wEHF",
        "colab_type": "code",
        "colab": {}
      },
      "source": [
        "y3_hat = y3_hat*1"
      ],
      "execution_count": 0,
      "outputs": []
    },
    {
      "cell_type": "markdown",
      "metadata": {
        "id": "h-hevuQDwEHM",
        "colab_type": "text"
      },
      "source": [
        "### Your graphs should look like the following"
      ]
    },
    {
      "cell_type": "code",
      "metadata": {
        "id": "L0e5ZJuIwEHN",
        "colab_type": "code",
        "colab": {},
        "outputId": "52f76926-8121-4db6-85f9-3a50f15c936d"
      },
      "source": [
        "# Now let us take a look how the model is doing: If done correctly you ought to see the graphs below\n",
        "fig,axes = plt.subplots(1,2, figsize=(10,5), sharey = True)\n",
        "# Visualize the data what is originally labled:\n",
        "axes[0].scatter(X[:,1], X[:,2], c=labels_3, s=40, cmap=plt.cm.Spectral);\n",
        "axes[0].set_title('Original Dataset')\n",
        "# Now plot what the model classified:\n",
        "axes[1].scatter(X[:,1], X[:,2], c=y3_hat, s=40, cmap=plt.cm.Spectral);\n",
        "axes[1].set_title('Classified by Model')\n",
        "plt.show()"
      ],
      "execution_count": 0,
      "outputs": [
        {
          "output_type": "display_data",
          "data": {
            "image/png": "[encoded data removed]",
            "text/plain": [
              "<matplotlib.figure.Figure at 0x1764c555ac8>"
            ]
          },
          "metadata": {
            "tags": []
          }
        }
      ]
    },
    {
      "cell_type": "markdown",
      "metadata": {
        "id": "Jp7owFFWwEHR",
        "colab_type": "text"
      },
      "source": [
        "### Pretty close!"
      ]
    },
    {
      "cell_type": "code",
      "metadata": {
        "id": "Qh0MprFxwEHT",
        "colab_type": "code",
        "colab": {},
        "outputId": "a01c9279-6a54-4f2f-837c-1271c32ad7f7"
      },
      "source": [
        "#Let us see how our modeling is doing\n",
        "sum(np.abs(y3_hat-labels_3))/len(y3_hat)"
      ],
      "execution_count": 0,
      "outputs": [
        {
          "output_type": "execute_result",
          "data": {
            "text/plain": [
              "0.00029999999999999997"
            ]
          },
          "metadata": {
            "tags": []
          },
          "execution_count": 65
        }
      ]
    },
    {
      "cell_type": "markdown",
      "metadata": {
        "id": "Ghew-T0SwEHW",
        "colab_type": "text"
      },
      "source": [
        "#### You ought to see the percent of misclassified point to be around\n",
        "0.0002\n",
        "\n",
        "#### Much better than previous one"
      ]
    },
    {
      "cell_type": "code",
      "metadata": {
        "id": "FPOB403MwEHY",
        "colab_type": "code",
        "colab": {},
        "outputId": "6f91892b-f73b-4c68-d834-eda58b2d8f2e"
      },
      "source": [
        "model.coef_"
      ],
      "execution_count": 0,
      "outputs": [
        {
          "output_type": "execute_result",
          "data": {
            "text/plain": [
              "array([[  5.44071898e+00,  -3.42409989e-01,  -3.20882036e-01,\n",
              "          9.58219089e-03,  -1.17171146e-01,  -1.04876275e+01,\n",
              "         -1.04915225e+01]])"
            ]
          },
          "metadata": {
            "tags": []
          },
          "execution_count": 66
        }
      ]
    },
    {
      "cell_type": "markdown",
      "metadata": {
        "id": "sr070wOmwEHb",
        "colab_type": "text"
      },
      "source": [
        "#### Is this what you expected? Notice the coefficients that remains and the one that are depressed, i.e. close to 0"
      ]
    },
    {
      "cell_type": "markdown",
      "metadata": {
        "id": "XXzZ982zwEHc",
        "colab_type": "text"
      },
      "source": [
        "#### Congratulations! This concludes our third assignment"
      ]
    },
    {
      "cell_type": "code",
      "metadata": {
        "collapsed": true,
        "id": "3kMjGXYNwEHd",
        "colab_type": "code",
        "colab": {}
      },
      "source": [
        ""
      ],
      "execution_count": 0,
      "outputs": []
    }
  ]
}